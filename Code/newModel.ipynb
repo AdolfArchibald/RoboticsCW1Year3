{
 "cells": [
  {
   "cell_type": "markdown",
   "metadata": {},
   "source": [
    "# Imports"
   ]
  },
  {
   "cell_type": "code",
   "execution_count": 29,
   "metadata": {},
   "outputs": [],
   "source": [
    "import os\n",
    "import numpy as np\n",
    "import tensorflow as tf\n",
    "import matplotlib.pyplot as plt\n",
    "from PIL import Image\n",
    "\n",
    "from sklearn.model_selection import train_test_split\n",
    "from tensorflow.keras.models import Model\n",
    "from tensorflow.keras.layers import Input, Conv2D, MaxPooling2D, Flatten, Dense, Dropout\n",
    "from tensorflow.keras.optimizers import Adam\n",
    "\n",
    "import cv2\n",
    "import tkinter as tk\n",
    "from tkinter import filedialog, messagebox"
   ]
  },
  {
   "cell_type": "markdown",
   "metadata": {},
   "source": [
    "# Directories"
   ]
  },
  {
   "cell_type": "code",
   "execution_count": 30,
   "metadata": {},
   "outputs": [],
   "source": [
    "color_data_dir = \"../data/colorData\"\n",
    "number_data_dir = \"../data/numberData\"\n",
    "special_card_data_dir = \"../data/specialCardData\"\n",
    "preprocessed_data_dir = \"../data/preprocessedData\""
   ]
  },
  {
   "cell_type": "markdown",
   "metadata": {},
   "source": [
    "# Preprocessing"
   ]
  },
  {
   "cell_type": "code",
   "execution_count": 31,
   "metadata": {},
   "outputs": [],
   "source": [
    "def preprocess_and_save_images(directory, target_size=(300, 300)):\n",
    "    images = []\n",
    "    labels = []\n",
    "\n",
    "    if os.path.isdir(directory):\n",
    "        for label in os.listdir(directory):\n",
    "            class_dir = os.path.join(directory, label)\n",
    "            if os.path.isdir(class_dir):\n",
    "                for img_name in os.listdir(class_dir):\n",
    "                    img_path = os.path.join(class_dir, img_name)\n",
    "                    try:\n",
    "                        img = Image.open(img_path).convert('RGB')\n",
    "                        img = img.resize(target_size)\n",
    "                        img_array = np.array(img, dtype=np.float32) / 255.0\n",
    "\n",
    "                        images.append(img_array)\n",
    "                        labels.append(label)\n",
    "                    except Exception as e:\n",
    "                        print(f\"Error processing image {img_path}: {e}\")\n",
    "\n",
    "    # Encode labels as integers\n",
    "    unique_labels = np.unique(labels)\n",
    "    label_dict = {label: index for index, label in enumerate(unique_labels)}\n",
    "    labels_encoded = np.array([label_dict[label] for label in labels], dtype=np.int64)\n",
    "\n",
    "    return np.array(images, dtype=np.float32), labels_encoded, unique_labels\n"
   ]
  },
  {
   "cell_type": "markdown",
   "metadata": {},
   "source": [
    "Preprocessing Images and Data Labels"
   ]
  },
  {
   "cell_type": "code",
   "execution_count": 32,
   "metadata": {},
   "outputs": [],
   "source": [
    "color_images, color_labels, unique_color_labels = preprocess_and_save_images(color_data_dir)\n",
    "number_images, number_labels, unique_number_labels = preprocess_and_save_images(number_data_dir)\n",
    "special_card_images, special_card_labels, unique_special_labels = preprocess_and_save_images(special_card_data_dir)"
   ]
  },
  {
   "cell_type": "markdown",
   "metadata": {},
   "source": [
    "Combining Images and Labels"
   ]
  },
  {
   "cell_type": "code",
   "execution_count": 33,
   "metadata": {},
   "outputs": [],
   "source": [
    "all_images = np.concatenate([color_images, number_images, special_card_images], axis=0)\n",
    "all_color_labels = np.concatenate([color_labels, np.full(len(number_labels), -1), np.full(len(special_card_labels), -1)])\n",
    "all_number_labels = np.concatenate([np.full(len(color_labels), -1), number_labels, np.full(len(special_card_labels), -1)])\n",
    "all_special_labels = np.concatenate([np.full(len(color_labels), -1), np.full(len(number_labels), -1), special_card_labels])"
   ]
  },
  {
   "cell_type": "markdown",
   "metadata": {},
   "source": [
    "Ensure that all images and labels have the same length"
   ]
  },
  {
   "cell_type": "code",
   "execution_count": 34,
   "metadata": {},
   "outputs": [],
   "source": [
    "assert len(all_images) == len(all_color_labels) == len(all_number_labels) == len(all_special_labels), \"Data lengths do not match!\""
   ]
  },
  {
   "cell_type": "markdown",
   "metadata": {},
   "source": [
    "# Train / Test Split"
   ]
  },
  {
   "cell_type": "code",
   "execution_count": 35,
   "metadata": {},
   "outputs": [],
   "source": [
    "X_train, X_test, y_train_color, y_test_color, y_train_number, y_test_number, y_train_special, y_test_special = train_test_split(\n",
    "    all_images, all_color_labels, all_number_labels, all_special_labels, test_size=0.2, random_state=42\n",
    ")"
   ]
  },
  {
   "cell_type": "markdown",
   "metadata": {},
   "source": [
    "# Creating Datasets"
   ]
  },
  {
   "cell_type": "code",
   "execution_count": 36,
   "metadata": {},
   "outputs": [],
   "source": [
    "def create_dataset(images, color_labels, number_labels, special_labels, batch_size=16):\n",
    "    dataset = tf.data.Dataset.from_tensor_slices(\n",
    "        (images, {\"color_output\": color_labels, \"number_output\": number_labels, \"special_output\": special_labels})\n",
    "    )\n",
    "    dataset = dataset.shuffle(len(images)).batch(batch_size).prefetch(tf.data.AUTOTUNE)\n",
    "    return dataset"
   ]
  },
  {
   "cell_type": "markdown",
   "metadata": {},
   "source": [
    "Creating Training and Validation Datasets"
   ]
  },
  {
   "cell_type": "code",
   "execution_count": 37,
   "metadata": {},
   "outputs": [],
   "source": [
    "train_dataset = create_dataset(X_train, y_train_color, y_train_number, y_train_special)\n",
    "test_dataset = create_dataset(X_test, y_test_color, y_test_number, y_test_special)"
   ]
  },
  {
   "cell_type": "markdown",
   "metadata": {},
   "source": [
    "Custom Loss function to handle -1 labels"
   ]
  },
  {
   "cell_type": "code",
   "execution_count": 38,
   "metadata": {},
   "outputs": [],
   "source": [
    "def custom_loss(y_true, y_pred):\n",
    "    mask = tf.not_equal(y_true, -1)\n",
    "    y_true_masked = tf.boolean_mask(y_true, mask)\n",
    "    y_pred_masked = tf.boolean_mask(y_pred, mask)\n",
    "    \n",
    "    return tf.keras.losses.sparse_categorical_crossentropy(y_true_masked, y_pred_masked)"
   ]
  },
  {
   "cell_type": "markdown",
   "metadata": {},
   "source": [
    "# Building the Model"
   ]
  },
  {
   "cell_type": "code",
   "execution_count": 39,
   "metadata": {},
   "outputs": [],
   "source": [
    "input_layer = Input(shape=(300, 300, 3))\n",
    "x = Conv2D(32, (3, 3), activation='relu')(input_layer)\n",
    "x = MaxPooling2D(pool_size=(2, 2))(x)\n",
    "x = Conv2D(64, (3, 3), activation='relu')(x)\n",
    "x = MaxPooling2D(pool_size=(2, 2))(x)\n",
    "x = Conv2D(128, (3, 3), activation='relu')(x)\n",
    "x = MaxPooling2D(pool_size=(2, 2))(x)\n",
    "x = Flatten()(x)\n",
    "x = Dense(256, activation='relu')(x)\n",
    "x = Dropout(0.5)(x)"
   ]
  },
  {
   "cell_type": "markdown",
   "metadata": {},
   "source": [
    "Output Layers"
   ]
  },
  {
   "cell_type": "code",
   "execution_count": 40,
   "metadata": {},
   "outputs": [],
   "source": [
    "color_output = Dense(len(unique_color_labels), activation='softmax', name='color_output')(x)\n",
    "number_output = Dense(len(unique_number_labels), activation='softmax', name='number_output')(x)\n",
    "special_output = Dense(len(unique_special_labels), activation='softmax', name='special_output')(x)"
   ]
  },
  {
   "cell_type": "markdown",
   "metadata": {},
   "source": [
    "# Defining, Compiling and Training Model"
   ]
  },
  {
   "cell_type": "code",
   "execution_count": 41,
   "metadata": {},
   "outputs": [],
   "source": [
    "model = Model(inputs=input_layer, outputs=[color_output, number_output, special_output])"
   ]
  },
  {
   "cell_type": "markdown",
   "metadata": {},
   "source": [
    "Compiling the model with the custom loss function"
   ]
  },
  {
   "cell_type": "code",
   "execution_count": 42,
   "metadata": {},
   "outputs": [],
   "source": [
    "model.compile(optimizer=Adam(learning_rate=0.001),\n",
    "              loss={'color_output': custom_loss,\n",
    "                    'number_output': custom_loss,\n",
    "                    'special_output': custom_loss},\n",
    "              metrics={'color_output': 'accuracy',\n",
    "                       'number_output': 'accuracy',\n",
    "                       'special_output': 'accuracy'})"
   ]
  },
  {
   "cell_type": "markdown",
   "metadata": {},
   "source": [
    "Training the Model"
   ]
  },
  {
   "cell_type": "code",
   "execution_count": 43,
   "metadata": {},
   "outputs": [
    {
     "name": "stdout",
     "output_type": "stream",
     "text": [
      "Epoch 1/30\n",
      "\u001b[1m153/153\u001b[0m \u001b[32m━━━━━━━━━━━━━━━━━━━━\u001b[0m\u001b[37m\u001b[0m \u001b[1m42s\u001b[0m 263ms/step - color_output_accuracy: 0.2137 - color_output_loss: 1.3902 - loss: nan - number_output_accuracy: 0.0288 - number_output_loss: 3.0844 - special_output_accuracy: 0.0416 - special_output_loss: nan - val_color_output_accuracy: 0.4246 - val_color_output_loss: 0.4034 - val_loss: nan - val_number_output_accuracy: 0.0475 - val_number_output_loss: nan - val_special_output_accuracy: 0.0967 - val_special_output_loss: nan\n",
      "Epoch 2/30\n",
      "\u001b[1m153/153\u001b[0m \u001b[32m━━━━━━━━━━━━━━━━━━━━\u001b[0m\u001b[37m\u001b[0m \u001b[1m42s\u001b[0m 277ms/step - color_output_accuracy: 0.3986 - color_output_loss: 0.3575 - loss: nan - number_output_accuracy: 0.0406 - number_output_loss: 2.8722 - special_output_accuracy: 0.1000 - special_output_loss: nan - val_color_output_accuracy: 0.4475 - val_color_output_loss: 0.1409 - val_loss: nan - val_number_output_accuracy: 0.0426 - val_number_output_loss: 2.5974 - val_special_output_accuracy: 0.1082 - val_special_output_loss: nan\n",
      "Epoch 3/30\n",
      "\u001b[1m153/153\u001b[0m \u001b[32m━━━━━━━━━━━━━━━━━━━━\u001b[0m\u001b[37m\u001b[0m \u001b[1m42s\u001b[0m 275ms/step - color_output_accuracy: 0.4256 - color_output_loss: 0.1099 - loss: nan - number_output_accuracy: 0.0616 - number_output_loss: 2.6342 - special_output_accuracy: 0.1122 - special_output_loss: nan - val_color_output_accuracy: 0.4672 - val_color_output_loss: 0.0627 - val_loss: nan - val_number_output_accuracy: 0.0574 - val_number_output_loss: nan - val_special_output_accuracy: 0.1098 - val_special_output_loss: nan\n",
      "Epoch 4/30\n",
      "\u001b[1m153/153\u001b[0m \u001b[32m━━━━━━━━━━━━━━━━━━━━\u001b[0m\u001b[37m\u001b[0m \u001b[1m42s\u001b[0m 277ms/step - color_output_accuracy: 0.4142 - color_output_loss: 0.0634 - loss: nan - number_output_accuracy: 0.0925 - number_output_loss: 2.4401 - special_output_accuracy: 0.1253 - special_output_loss: nan - val_color_output_accuracy: 0.4689 - val_color_output_loss: 0.0165 - val_loss: nan - val_number_output_accuracy: 0.0607 - val_number_output_loss: 2.4100 - val_special_output_accuracy: 0.1098 - val_special_output_loss: nan\n",
      "Epoch 5/30\n",
      "\u001b[1m153/153\u001b[0m \u001b[32m━━━━━━━━━━━━━━━━━━━━\u001b[0m\u001b[37m\u001b[0m \u001b[1m43s\u001b[0m 281ms/step - color_output_accuracy: 0.4454 - color_output_loss: 0.0295 - loss: nan - number_output_accuracy: 0.1178 - number_output_loss: 2.2452 - special_output_accuracy: 0.1091 - special_output_loss: nan - val_color_output_accuracy: 0.4689 - val_color_output_loss: 0.0117 - val_loss: nan - val_number_output_accuracy: 0.0934 - val_number_output_loss: 2.3496 - val_special_output_accuracy: 0.1098 - val_special_output_loss: nan\n",
      "Epoch 6/30\n",
      "\u001b[1m153/153\u001b[0m \u001b[32m━━━━━━━━━━━━━━━━━━━━\u001b[0m\u001b[37m\u001b[0m \u001b[1m44s\u001b[0m 288ms/step - color_output_accuracy: 0.4202 - color_output_loss: 0.0367 - loss: nan - number_output_accuracy: 0.1446 - number_output_loss: 2.0243 - special_output_accuracy: 0.1285 - special_output_loss: nan - val_color_output_accuracy: 0.4689 - val_color_output_loss: 0.0046 - val_loss: nan - val_number_output_accuracy: 0.0902 - val_number_output_loss: nan - val_special_output_accuracy: 0.1098 - val_special_output_loss: nan\n",
      "Epoch 7/30\n",
      "\u001b[1m153/153\u001b[0m \u001b[32m━━━━━━━━━━━━━━━━━━━━\u001b[0m\u001b[37m\u001b[0m \u001b[1m43s\u001b[0m 279ms/step - color_output_accuracy: 0.4447 - color_output_loss: 0.0326 - loss: nan - number_output_accuracy: 0.1894 - number_output_loss: 1.7029 - special_output_accuracy: 0.1121 - special_output_loss: nan - val_color_output_accuracy: 0.4689 - val_color_output_loss: 0.0026 - val_loss: nan - val_number_output_accuracy: 0.0869 - val_number_output_loss: nan - val_special_output_accuracy: 0.1098 - val_special_output_loss: nan\n",
      "Epoch 8/30\n",
      "\u001b[1m153/153\u001b[0m \u001b[32m━━━━━━━━━━━━━━━━━━━━\u001b[0m\u001b[37m\u001b[0m \u001b[1m41s\u001b[0m 269ms/step - color_output_accuracy: 0.4431 - color_output_loss: 0.0304 - loss: nan - number_output_accuracy: 0.2435 - number_output_loss: 1.3982 - special_output_accuracy: 0.1098 - special_output_loss: nan - val_color_output_accuracy: 0.4689 - val_color_output_loss: 0.0010 - val_loss: nan - val_number_output_accuracy: 0.1115 - val_number_output_loss: 2.3718 - val_special_output_accuracy: 0.1098 - val_special_output_loss: nan\n",
      "Epoch 9/30\n",
      "\u001b[1m153/153\u001b[0m \u001b[32m━━━━━━━━━━━━━━━━━━━━\u001b[0m\u001b[37m\u001b[0m \u001b[1m41s\u001b[0m 268ms/step - color_output_accuracy: 0.4285 - color_output_loss: 0.0216 - loss: nan - number_output_accuracy: 0.3000 - number_output_loss: 1.0053 - special_output_accuracy: 0.1219 - special_output_loss: nan - val_color_output_accuracy: 0.4689 - val_color_output_loss: 0.0048 - val_loss: nan - val_number_output_accuracy: 0.1213 - val_number_output_loss: 2.5503 - val_special_output_accuracy: 0.1082 - val_special_output_loss: nan\n",
      "Epoch 10/30\n",
      "\u001b[1m153/153\u001b[0m \u001b[32m━━━━━━━━━━━━━━━━━━━━\u001b[0m\u001b[37m\u001b[0m \u001b[1m41s\u001b[0m 266ms/step - color_output_accuracy: 0.4221 - color_output_loss: 0.0354 - loss: nan - number_output_accuracy: 0.3141 - number_output_loss: 0.9622 - special_output_accuracy: 0.1211 - special_output_loss: nan - val_color_output_accuracy: 0.4689 - val_color_output_loss: 3.8957e-04 - val_loss: nan - val_number_output_accuracy: 0.1246 - val_number_output_loss: nan - val_special_output_accuracy: 0.1098 - val_special_output_loss: nan\n",
      "Epoch 11/30\n",
      "\u001b[1m153/153\u001b[0m \u001b[32m━━━━━━━━━━━━━━━━━━━━\u001b[0m\u001b[37m\u001b[0m \u001b[1m60s\u001b[0m 392ms/step - color_output_accuracy: 0.4461 - color_output_loss: 0.0475 - loss: nan - number_output_accuracy: 0.3398 - number_output_loss: 0.5801 - special_output_accuracy: 0.1155 - special_output_loss: nan - val_color_output_accuracy: 0.4672 - val_color_output_loss: 0.0028 - val_loss: nan - val_number_output_accuracy: 0.1344 - val_number_output_loss: nan - val_special_output_accuracy: 0.1098 - val_special_output_loss: nan\n",
      "Epoch 12/30\n",
      "\u001b[1m153/153\u001b[0m \u001b[32m━━━━━━━━━━━━━━━━━━━━\u001b[0m\u001b[37m\u001b[0m \u001b[1m41s\u001b[0m 269ms/step - color_output_accuracy: 0.4294 - color_output_loss: 0.0422 - loss: nan - number_output_accuracy: 0.3524 - number_output_loss: 0.6351 - special_output_accuracy: 0.1185 - special_output_loss: nan - val_color_output_accuracy: 0.4689 - val_color_output_loss: nan - val_loss: nan - val_number_output_accuracy: 0.1279 - val_number_output_loss: 2.9924 - val_special_output_accuracy: 0.1098 - val_special_output_loss: nan\n",
      "Epoch 13/30\n",
      "\u001b[1m153/153\u001b[0m \u001b[32m━━━━━━━━━━━━━━━━━━━━\u001b[0m\u001b[37m\u001b[0m \u001b[1m41s\u001b[0m 269ms/step - color_output_accuracy: 0.4379 - color_output_loss: 0.0154 - loss: nan - number_output_accuracy: 0.3885 - number_output_loss: 0.3577 - special_output_accuracy: 0.1202 - special_output_loss: nan - val_color_output_accuracy: 0.4689 - val_color_output_loss: 8.8772e-05 - val_loss: nan - val_number_output_accuracy: 0.1164 - val_number_output_loss: nan - val_special_output_accuracy: 0.1098 - val_special_output_loss: nan\n",
      "Epoch 14/30\n",
      "\u001b[1m153/153\u001b[0m \u001b[32m━━━━━━━━━━━━━━━━━━━━\u001b[0m\u001b[37m\u001b[0m \u001b[1m41s\u001b[0m 268ms/step - color_output_accuracy: 0.4404 - color_output_loss: 0.0159 - loss: nan - number_output_accuracy: 0.3839 - number_output_loss: 0.3896 - special_output_accuracy: 0.1150 - special_output_loss: nan - val_color_output_accuracy: 0.4689 - val_color_output_loss: 1.3386e-05 - val_loss: nan - val_number_output_accuracy: 0.1164 - val_number_output_loss: 3.1812 - val_special_output_accuracy: 0.1098 - val_special_output_loss: nan\n",
      "Epoch 15/30\n",
      "\u001b[1m153/153\u001b[0m \u001b[32m━━━━━━━━━━━━━━━━━━━━\u001b[0m\u001b[37m\u001b[0m \u001b[1m41s\u001b[0m 268ms/step - color_output_accuracy: 0.4156 - color_output_loss: 0.0281 - loss: nan - number_output_accuracy: 0.4252 - number_output_loss: 0.2520 - special_output_accuracy: 0.1230 - special_output_loss: nan - val_color_output_accuracy: 0.4689 - val_color_output_loss: 0.0016 - val_loss: nan - val_number_output_accuracy: 0.1311 - val_number_output_loss: 3.6780 - val_special_output_accuracy: 0.1098 - val_special_output_loss: nan\n",
      "Epoch 16/30\n",
      "\u001b[1m153/153\u001b[0m \u001b[32m━━━━━━━━━━━━━━━━━━━━\u001b[0m\u001b[37m\u001b[0m \u001b[1m41s\u001b[0m 269ms/step - color_output_accuracy: 0.4183 - color_output_loss: 0.0195 - loss: nan - number_output_accuracy: 0.4265 - number_output_loss: 0.2292 - special_output_accuracy: 0.1164 - special_output_loss: nan - val_color_output_accuracy: 0.4689 - val_color_output_loss: nan - val_loss: nan - val_number_output_accuracy: 0.1246 - val_number_output_loss: 3.1068 - val_special_output_accuracy: 0.1098 - val_special_output_loss: nan\n",
      "Epoch 17/30\n",
      "\u001b[1m153/153\u001b[0m \u001b[32m━━━━━━━━━━━━━━━━━━━━\u001b[0m\u001b[37m\u001b[0m \u001b[1m41s\u001b[0m 268ms/step - color_output_accuracy: 0.4507 - color_output_loss: 0.0344 - loss: nan - number_output_accuracy: 0.3879 - number_output_loss: 0.2645 - special_output_accuracy: 0.1115 - special_output_loss: nan - val_color_output_accuracy: 0.4689 - val_color_output_loss: 3.7661e-04 - val_loss: nan - val_number_output_accuracy: 0.1361 - val_number_output_loss: 3.5465 - val_special_output_accuracy: 0.1082 - val_special_output_loss: nan\n",
      "Epoch 18/30\n",
      "\u001b[1m153/153\u001b[0m \u001b[32m━━━━━━━━━━━━━━━━━━━━\u001b[0m\u001b[37m\u001b[0m \u001b[1m41s\u001b[0m 268ms/step - color_output_accuracy: 0.4345 - color_output_loss: 0.0288 - loss: nan - number_output_accuracy: 0.3964 - number_output_loss: 0.2432 - special_output_accuracy: 0.1276 - special_output_loss: nan - val_color_output_accuracy: 0.4689 - val_color_output_loss: nan - val_loss: nan - val_number_output_accuracy: 0.1393 - val_number_output_loss: 3.4675 - val_special_output_accuracy: 0.1098 - val_special_output_loss: nan\n",
      "Epoch 19/30\n",
      "\u001b[1m153/153\u001b[0m \u001b[32m━━━━━━━━━━━━━━━━━━━━\u001b[0m\u001b[37m\u001b[0m \u001b[1m41s\u001b[0m 271ms/step - color_output_accuracy: 0.4292 - color_output_loss: 0.0322 - loss: nan - number_output_accuracy: 0.4138 - number_output_loss: 0.2522 - special_output_accuracy: 0.1155 - special_output_loss: nan - val_color_output_accuracy: 0.4689 - val_color_output_loss: nan - val_loss: nan - val_number_output_accuracy: 0.1262 - val_number_output_loss: nan - val_special_output_accuracy: 0.1098 - val_special_output_loss: nan\n",
      "Epoch 20/30\n",
      "\u001b[1m153/153\u001b[0m \u001b[32m━━━━━━━━━━━━━━━━━━━━\u001b[0m\u001b[37m\u001b[0m \u001b[1m42s\u001b[0m 271ms/step - color_output_accuracy: 0.4340 - color_output_loss: 0.0207 - loss: nan - number_output_accuracy: 0.4298 - number_output_loss: 0.1521 - special_output_accuracy: 0.1077 - special_output_loss: nan - val_color_output_accuracy: 0.4689 - val_color_output_loss: 3.3917e-05 - val_loss: nan - val_number_output_accuracy: 0.1230 - val_number_output_loss: 3.8221 - val_special_output_accuracy: 0.1098 - val_special_output_loss: nan\n",
      "Epoch 21/30\n",
      "\u001b[1m153/153\u001b[0m \u001b[32m━━━━━━━━━━━━━━━━━━━━\u001b[0m\u001b[37m\u001b[0m \u001b[1m41s\u001b[0m 268ms/step - color_output_accuracy: 0.4376 - color_output_loss: 0.0303 - loss: nan - number_output_accuracy: 0.4061 - number_output_loss: 0.2578 - special_output_accuracy: 0.1140 - special_output_loss: nan - val_color_output_accuracy: 0.4689 - val_color_output_loss: 6.3352e-06 - val_loss: nan - val_number_output_accuracy: 0.1344 - val_number_output_loss: nan - val_special_output_accuracy: 0.1098 - val_special_output_loss: nan\n",
      "Epoch 22/30\n",
      "\u001b[1m153/153\u001b[0m \u001b[32m━━━━━━━━━━━━━━━━━━━━\u001b[0m\u001b[37m\u001b[0m \u001b[1m41s\u001b[0m 268ms/step - color_output_accuracy: 0.4449 - color_output_loss: 0.0417 - loss: nan - number_output_accuracy: 0.4140 - number_output_loss: 0.1557 - special_output_accuracy: 0.1171 - special_output_loss: nan - val_color_output_accuracy: 0.4689 - val_color_output_loss: 2.5449e-04 - val_loss: nan - val_number_output_accuracy: 0.1246 - val_number_output_loss: 3.9016 - val_special_output_accuracy: 0.1098 - val_special_output_loss: nan\n",
      "Epoch 23/30\n",
      "\u001b[1m153/153\u001b[0m \u001b[32m━━━━━━━━━━━━━━━━━━━━\u001b[0m\u001b[37m\u001b[0m \u001b[1m41s\u001b[0m 267ms/step - color_output_accuracy: 0.4497 - color_output_loss: 0.0024 - loss: nan - number_output_accuracy: 0.4165 - number_output_loss: 0.1228 - special_output_accuracy: 0.1135 - special_output_loss: nan - val_color_output_accuracy: 0.4689 - val_color_output_loss: 4.2186e-06 - val_loss: nan - val_number_output_accuracy: 0.1311 - val_number_output_loss: nan - val_special_output_accuracy: 0.1098 - val_special_output_loss: nan\n",
      "Epoch 24/30\n",
      "\u001b[1m153/153\u001b[0m \u001b[32m━━━━━━━━━━━━━━━━━━━━\u001b[0m\u001b[37m\u001b[0m \u001b[1m41s\u001b[0m 270ms/step - color_output_accuracy: 0.4099 - color_output_loss: 0.0525 - loss: nan - number_output_accuracy: 0.4348 - number_output_loss: 0.1667 - special_output_accuracy: 0.1183 - special_output_loss: nan - val_color_output_accuracy: 0.4689 - val_color_output_loss: nan - val_loss: nan - val_number_output_accuracy: 0.1164 - val_number_output_loss: 3.3179 - val_special_output_accuracy: 0.1098 - val_special_output_loss: nan\n",
      "Epoch 25/30\n",
      "\u001b[1m153/153\u001b[0m \u001b[32m━━━━━━━━━━━━━━━━━━━━\u001b[0m\u001b[37m\u001b[0m \u001b[1m65s\u001b[0m 424ms/step - color_output_accuracy: 0.4359 - color_output_loss: 0.0117 - loss: nan - number_output_accuracy: 0.4137 - number_output_loss: 0.2146 - special_output_accuracy: 0.1144 - special_output_loss: nan - val_color_output_accuracy: 0.4689 - val_color_output_loss: 7.1197e-06 - val_loss: nan - val_number_output_accuracy: 0.1262 - val_number_output_loss: nan - val_special_output_accuracy: 0.1098 - val_special_output_loss: nan\n",
      "Epoch 26/30\n",
      "\u001b[1m153/153\u001b[0m \u001b[32m━━━━━━━━━━━━━━━━━━━━\u001b[0m\u001b[37m\u001b[0m \u001b[1m43s\u001b[0m 279ms/step - color_output_accuracy: 0.4534 - color_output_loss: 0.0084 - loss: nan - number_output_accuracy: 0.4226 - number_output_loss: 0.1135 - special_output_accuracy: 0.1076 - special_output_loss: nan - val_color_output_accuracy: 0.4689 - val_color_output_loss: nan - val_loss: nan - val_number_output_accuracy: 0.1115 - val_number_output_loss: 4.2158 - val_special_output_accuracy: 0.1098 - val_special_output_loss: nan\n",
      "Epoch 27/30\n",
      "\u001b[1m153/153\u001b[0m \u001b[32m━━━━━━━━━━━━━━━━━━━━\u001b[0m\u001b[37m\u001b[0m \u001b[1m42s\u001b[0m 275ms/step - color_output_accuracy: 0.4357 - color_output_loss: 0.0061 - loss: nan - number_output_accuracy: 0.4417 - number_output_loss: 0.0864 - special_output_accuracy: 0.1064 - special_output_loss: nan - val_color_output_accuracy: 0.4689 - val_color_output_loss: 2.0616e-05 - val_loss: nan - val_number_output_accuracy: 0.1262 - val_number_output_loss: 4.2400 - val_special_output_accuracy: 0.1098 - val_special_output_loss: nan\n",
      "Epoch 28/30\n",
      "\u001b[1m153/153\u001b[0m \u001b[32m━━━━━━━━━━━━━━━━━━━━\u001b[0m\u001b[37m\u001b[0m \u001b[1m42s\u001b[0m 277ms/step - color_output_accuracy: 0.4254 - color_output_loss: 0.0053 - loss: nan - number_output_accuracy: 0.4548 - number_output_loss: 0.0693 - special_output_accuracy: 0.1072 - special_output_loss: nan - val_color_output_accuracy: 0.4689 - val_color_output_loss: 1.5218e-05 - val_loss: nan - val_number_output_accuracy: 0.1180 - val_number_output_loss: nan - val_special_output_accuracy: 0.1098 - val_special_output_loss: nan\n",
      "Epoch 29/30\n",
      "\u001b[1m153/153\u001b[0m \u001b[32m━━━━━━━━━━━━━━━━━━━━\u001b[0m\u001b[37m\u001b[0m \u001b[1m73s\u001b[0m 478ms/step - color_output_accuracy: 0.4564 - color_output_loss: 0.0163 - loss: nan - number_output_accuracy: 0.4075 - number_output_loss: 0.1118 - special_output_accuracy: 0.1155 - special_output_loss: nan - val_color_output_accuracy: 0.4689 - val_color_output_loss: 2.9873e-06 - val_loss: nan - val_number_output_accuracy: 0.1197 - val_number_output_loss: nan - val_special_output_accuracy: 0.1098 - val_special_output_loss: nan\n",
      "Epoch 30/30\n",
      "\u001b[1m153/153\u001b[0m \u001b[32m━━━━━━━━━━━━━━━━━━━━\u001b[0m\u001b[37m\u001b[0m \u001b[1m41s\u001b[0m 266ms/step - color_output_accuracy: 0.4135 - color_output_loss: 0.0193 - loss: nan - number_output_accuracy: 0.4412 - number_output_loss: 0.1060 - special_output_accuracy: 0.1209 - special_output_loss: nan - val_color_output_accuracy: 0.4689 - val_color_output_loss: 1.4325e-04 - val_loss: nan - val_number_output_accuracy: 0.1230 - val_number_output_loss: 4.2189 - val_special_output_accuracy: 0.1098 - val_special_output_loss: nan\n"
     ]
    }
   ],
   "source": [
    "history = model.fit(train_dataset, epochs=30, validation_data=test_dataset)"
   ]
  },
  {
   "cell_type": "markdown",
   "metadata": {},
   "source": [
    "# Model Metrics"
   ]
  },
  {
   "cell_type": "code",
   "execution_count": 44,
   "metadata": {},
   "outputs": [
    {
     "data": {
      "image/png": "[encoded data removed]",
      "text/plain": [
       "<Figure size 1200x600 with 1 Axes>"
      ]
     },
     "metadata": {},
     "output_type": "display_data"
    }
   ],
   "source": [
    "color_accuracy = history.history['color_output_accuracy']\n",
    "number_accuracy = history.history['number_output_accuracy']\n",
    "special_accuracy = history.history['special_output_accuracy']\n",
    "val_color_accuracy = history.history['val_color_output_accuracy']\n",
    "val_number_accuracy = history.history['val_number_output_accuracy']\n",
    "val_special_accuracy = history.history['val_special_output_accuracy']\n",
    "\n",
    "epochs = range(len(color_accuracy))\n",
    "\n",
    "# Plot training & validation accuracy\n",
    "plt.figure(figsize=(12, 6))\n",
    "plt.plot(epochs, color_accuracy, 'r', label='Color Accuracy')\n",
    "plt.plot(epochs, number_accuracy, 'g', label='Number Accuracy')\n",
    "plt.plot(epochs, special_accuracy, 'b', label='Special Accuracy')\n",
    "plt.plot(epochs, val_color_accuracy, 'r--', label='Val Color Accuracy')\n",
    "plt.plot(epochs, val_number_accuracy, 'g--', label='Val Number Accuracy')\n",
    "plt.plot(epochs, val_special_accuracy, 'b--', label='Val Special Accuracy')\n",
    "plt.title('Training and Validation Accuracy')\n",
    "plt.xlabel('Epochs')\n",
    "plt.ylabel('Accuracy')\n",
    "plt.legend()\n",
    "plt.show()"
   ]
  },
  {
   "cell_type": "markdown",
   "metadata": {},
   "source": [
    "# Prediction Functions\n",
    "Predicting with a File Path"
   ]
  },
  {
   "cell_type": "code",
   "execution_count": 45,
   "metadata": {},
   "outputs": [],
   "source": [
    "def predict_uno_card(image_path):\n",
    "    img = Image.open(image_path).convert('RGB')\n",
    "    img = img.resize((300, 300))\n",
    "\n",
    "    # plt.imshow(img)\n",
    "    # plt.title(\"Resized Image\")\n",
    "    # plt.axis('off')\n",
    "    # plt.show()\n",
    "\n",
    "    img_array = np.array(img, dtype=np.float32) / 255.0\n",
    "    img_array = np.expand_dims(img_array, axis=0)\n",
    "\n",
    "    # Make predictions\n",
    "    color_prediction, number_prediction, special_prediction = model.predict(img_array)\n",
    "    color_label = unique_color_labels[np.argmax(color_prediction)]\n",
    "    number_label = unique_number_labels[np.argmax(number_prediction)]\n",
    "    special_label = unique_special_labels[np.argmax(special_prediction)]\n",
    "\n",
    "    # print(f\"Predicted color: {color_label}\")\n",
    "    # print(f\"Predicted number: {number_label}\")\n",
    "    # print(f\"Is special card: {special_label}\")\n",
    "\n",
    "    return f\"Predicted color: {color_label}\\nPredicted number: {number_label}\\nIs special card: {special_label}\""
   ]
  },
  {
   "cell_type": "markdown",
   "metadata": {},
   "source": [
    "Predicting with an image"
   ]
  },
  {
   "cell_type": "code",
   "execution_count": 46,
   "metadata": {},
   "outputs": [],
   "source": [
    "def predict_uno_card_with_img(img):\n",
    "    img = img.resize((300, 300))\n",
    "    img = img.convert('RGB')\n",
    "\n",
    "    img_array = np.array(img, dtype=np.float32) / 255.0\n",
    "    img_array = np.expand_dims(img_array, axis=0)\n",
    "\n",
    "    # Make predictions\n",
    "    color_prediction, number_prediction, special_prediction = model.predict(img_array)\n",
    "    color_label = unique_color_labels[np.argmax(color_prediction)]\n",
    "    number_label = unique_number_labels[np.argmax(number_prediction)]\n",
    "    special_label = unique_special_labels[np.argmax(special_prediction)]\n",
    "\n",
    "    return f\"{color_label}{number_label} Special:{special_label}\""
   ]
  },
  {
   "cell_type": "markdown",
   "metadata": {},
   "source": [
    "# GUI\n",
    "Function to upload an Image from the computer"
   ]
  },
  {
   "cell_type": "code",
   "execution_count": 47,
   "metadata": {},
   "outputs": [],
   "source": [
    "def upload_image(main_window):\n",
    "    try:\n",
    "        # Open the file dialog to select an image\n",
    "        file_path = filedialog.askopenfilename(\n",
    "            title=\"Select an Image\",\n",
    "            filetypes=[(\"Image Files\", \"*.png;*.jpg;*.jpeg;*.gif;*.bmp\")]\n",
    "        )\n",
    "        \n",
    "        # If no file is selected (cancel button is clicked)\n",
    "        if not file_path:\n",
    "            messagebox.showinfo(\"No file selected\", \"You did not select an image.\")\n",
    "            return\n",
    "\n",
    "        # Try to open the image using Pillow\n",
    "        try:\n",
    "            image = Image.open(file_path)\n",
    "\n",
    "            # Call your existing predict_uno_card function\n",
    "            prediction = predict_uno_card(file_path)\n",
    "            \n",
    "            # Show the result in a separate small window (new tkinter window)\n",
    "            result_window = tk.Toplevel(main_window)\n",
    "            result_window.title(\"Prediction Result\")\n",
    "            result_label = tk.Label(result_window, text=prediction, font=(\"Arial\", 12))\n",
    "            result_label.pack(padx=20, pady=20)\n",
    "            result_button = tk.Button(result_window, text=\"Close\", command=result_window.destroy)\n",
    "            result_button.pack(pady=10)\n",
    "\n",
    "            result_window.geometry(\"300x150\")  # Set a small window size for the result\n",
    "\n",
    "        except Exception as e:\n",
    "            messagebox.showerror(\"Error\", f\"An error occurred while opening the image: {e}\")\n",
    "        \n",
    "    except Exception as e:\n",
    "        messagebox.showerror(\"Error\", f\"An error occurred: {e}\")"
   ]
  },
  {
   "cell_type": "markdown",
   "metadata": {},
   "source": [
    "Function to Start the Livestream for Live Detection"
   ]
  },
  {
   "cell_type": "code",
   "execution_count": 48,
   "metadata": {},
   "outputs": [],
   "source": [
    "def start_livestream():\n",
    "    cap = cv2.VideoCapture(0)\n",
    "    \n",
    "    # Create a new window for edge detection\n",
    "    edge_window = cv2.namedWindow(\"Edge Detection\")\n",
    "\n",
    "    while True:\n",
    "        ret, frame = cap.read()\n",
    "        if not ret:\n",
    "            break\n",
    "\n",
    "        height, width, _ = frame.shape\n",
    "        start_x = width // 4\n",
    "        start_y = height // 4\n",
    "        end_x = 3 * width // 4\n",
    "        end_y = 3 * height // 4\n",
    "\n",
    "        square_frame = frame[start_y:end_y, start_x:end_x]\n",
    "\n",
    "        # Convert from BGR to RGB\n",
    "        input_image = cv2.cvtColor(square_frame, cv2.COLOR_BGR2RGB)\n",
    "\n",
    "        # Convert the frame to a PIL Image object\n",
    "        input_image = Image.fromarray(input_image)\n",
    "\n",
    "        prediction = predict_uno_card_with_img(input_image)\n",
    "\n",
    "        # Draw bounding box and label\n",
    "        cv2.rectangle(frame, (start_x, start_y), (end_x, end_y), (0, 255, 0), 2)\n",
    "        cv2.putText(frame, f'{prediction}', (start_x, start_y - 10), cv2.FONT_HERSHEY_SIMPLEX, 0.9, (0, 255, 0), 2)\n",
    "\n",
    "        # Show the original video feed with bounding box\n",
    "        cv2.imshow('Video Feed', frame)\n",
    "        \n",
    "        # Apply edge detection to the marked area and display it in a new window\n",
    "        gray = cv2.cvtColor(square_frame, cv2.COLOR_BGR2GRAY)\n",
    "        edges = cv2.Canny(gray, 100, 200)\n",
    "        cv2.imshow(\"Edge Detection\", edges)\n",
    "\n",
    "        if cv2.waitKey(1) & 0xFF == ord('q'):\n",
    "            break\n",
    "\n",
    "    cap.release()\n",
    "    cv2.destroyAllWindows()"
   ]
  },
  {
   "cell_type": "markdown",
   "metadata": {},
   "source": [
    "Starting the GUI using Tkinter, and Binding the Functions to the buttons"
   ]
  },
  {
   "cell_type": "code",
   "execution_count": 49,
   "metadata": {},
   "outputs": [],
   "source": [
    "# Create the main window\n",
    "root = tk.Tk()\n",
    "root.title(\"Image and Livestream Prediction\")\n",
    "root.geometry(\"400x200\")  # Set window size\n",
    "\n",
    "# Create buttons with larger size\n",
    "upload_button = tk.Button(root, text=\"Upload Image\", command=lambda: upload_image(root), width=20, height=2)\n",
    "upload_button.pack(pady=20)\n",
    "livestream_button = tk.Button(root, text=\"Start Livestream\", command=start_livestream, width=20, height=2)\n",
    "livestream_button.pack(pady=20)\n",
    "\n",
    "# Run the application\n",
    "root.mainloop()"
   ]
  }
 ],
 "metadata": {
  "kernelspec": {
   "display_name": "Python 3",
   "language": "python",
   "name": "python3"
  },
  "language_info": {
   "codemirror_mode": {
    "name": "ipython",
    "version": 3
   },
   "file_extension": ".py",
   "mimetype": "text/x-python",
   "name": "python",
   "nbconvert_exporter": "python",
   "pygments_lexer": "ipython3",
   "version": "3.11.9"
  }
 },
 "nbformat": 4,
 "nbformat_minor": 2
}
